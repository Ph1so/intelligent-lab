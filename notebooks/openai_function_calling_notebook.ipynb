{
 "cells": [
  {
   "cell_type": "markdown",
   "metadata": {},
   "source": [
    "# OpenAI function calling notebook"
   ]
  },
  {
   "cell_type": "markdown",
   "metadata": {},
   "source": [
    "Docs: https://platform.openai.com/docs/guides/function-calling\n",
    "More examples: https://cookbook.openai.com/examples/how_to_call_functions_with_chat_models\n",
    "\n",
    "Basics of function calling:\n",
    "* The function calling feature basically compels the model to output a JSON object containing arguments to call one or many functions. It does not actually call the function. \n",
    "* By adjusting the `tool_choice` arg, you can force the model to always call one or more functions, always call a specific function, or force the model only to generate a user facing message.\n",
    "\n",
    "Basic steps for function calling:\n",
    "1. Call the model with user query and a set of functions in the `functions` parameter\n",
    "2. The model can choose to call one or more functions and will output a stringified JSON object. The model may hallucinate parameters.\n",
    "3. Parse the JSON and call your function with the provided arguments, if they exist. \n",
    "4. Can call the model again appending the function response and let the model summarize the results."
   ]
  },
  {
   "cell_type": "markdown",
   "metadata": {},
   "source": []
  }
 ],
 "metadata": {
  "language_info": {
   "name": "python"
  }
 },
 "nbformat": 4,
 "nbformat_minor": 2
}
