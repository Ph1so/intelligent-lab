{
 "cells": [
  {
   "cell_type": "code",
   "execution_count": 20,
   "metadata": {},
   "outputs": [],
   "source": [
    "from dotenv import load_dotenv\n",
    "import os\n",
    "import json\n",
    "from openai import OpenAI\n",
    "\n",
    "load_dotenv()\n",
    "client = OpenAI(api_key=os.getenv(\"OPENAI_API_KEY\"))"
   ]
  },
  {
   "cell_type": "code",
   "execution_count": 21,
   "metadata": {},
   "outputs": [
    {
     "data": {
      "text/plain": [
       "'{\"robot_type\": \"OT-2\", \"api_version\": \"2.17\", \"pipettes\": {\"left\": {\"type\": \"p300_single_gen2\", \"tip_racks\": [\"1\"]}, \"right\": {\"type\": \"p20_multi_gen2\", \"tip_racks\": [\"2\"]}}, \"modules\": {\"thermocycler\": {\"type\": \"thermocyclerModuleV2\", \"location\": [\"7\"]}}, \"labware\": {\"1\": {\"type\": \"opentrons_96_tiprack_300ul\"}, \"2\": {\"type\": \"opentrons_96_tiprack_20ul\"}, \"3\": {\"type\": \"corning_96_wellplate_360ul_flat\"}, \"5\": {\"type\": \"nest_12_reservoir_15ml\"}, \"7\": {\"type\": \"nest_96_wellplate_100ul_pcr_full_skirt\", \"parent_module\": \"thermocycler\"}}}'"
      ]
     },
     "execution_count": 21,
     "metadata": {},
     "output_type": "execute_result"
    }
   ],
   "source": [
    "import json\n",
    "\n",
    "with open('../opentrons_config.json', 'r') as file:\n",
    "    opentrons_config_string = file.read()\n",
    "\n",
    "opentrons_config = json.loads(opentrons_config_string)\n",
    "json.dumps(opentrons_config)"
   ]
  },
  {
   "cell_type": "code",
   "execution_count": 22,
   "metadata": {},
   "outputs": [],
   "source": [
    "from langchain.tools import StructuredTool\n",
    "from langchain.pydantic_v1 import BaseModel, Field\n",
    "\n",
    "class DeckConfig(BaseModel):\n",
    "    config_string: str = Field(..., description=\"JSON string representation of the Opentrons deck layout\")\n",
    "\n",
    "def initialize_deck(config_string: str) -> str:\n",
    "    \"\"\"\n",
    "    Initialize the Opentrons deck layout based on the provided JSON configuration.\n",
    "    \n",
    "    Args:\n",
    "        config_string: JSON string representation of the deck layout.\n",
    "    \n",
    "    Returns:\n",
    "        str: Python code to set up the Opentrons deck.\n",
    "    \"\"\"\n",
    "    config = json.loads(config_string)\n",
    "    code = []\n",
    "    \n",
    "    code.append(\"from opentrons import protocol_api\")\n",
    "    code.append(f\"\\nmetadata = {{'apiLevel': '{config['api_version']}'}}\")\n",
    "    code.append(\"\\ndef run(protocol: protocol_api.ProtocolContext):\")\n",
    "    \n",
    "    # Load pipettes\n",
    "    for mount, pipette in config['pipettes'].items():\n",
    "        tip_racks = [f\"protocol.load_labware('{config['labware'][rack]['type']}', '{rack}')\" \n",
    "                     for rack in pipette['tip_racks']]\n",
    "        tip_racks_str = \", \".join(tip_racks)\n",
    "        code.append(f\"    {mount}_pipette = protocol.load_instrument('{pipette['type']}', '{mount}', tip_racks=[{tip_racks_str}])\")\n",
    "    \n",
    "    # Load modules\n",
    "    for module_name, module_info in config.get('modules', {}).items():\n",
    "        code.append(f\"    {module_name} = protocol.load_module('{module_info['type']}', '{module_info['location'][0]}')\")\n",
    "    \n",
    "    # Load labware\n",
    "    for slot, labware in config['labware'].items():\n",
    "        if 'parent_module' in labware:\n",
    "            code.append(f\"    {slot}_labware = {labware['parent_module']}.load_labware('{labware['type']}')\")\n",
    "        else:\n",
    "            code.append(f\"    {slot}_labware = protocol.load_labware('{labware['type']}', '{slot}')\")\n",
    "    \n",
    "    return \"\\n\".join(code)\n",
    "\n",
    "initialize_deck_tool = StructuredTool.from_function(\n",
    "    func=initialize_deck,\n",
    "    name=\"InitializeDeck\",\n",
    "    description=\"Initialize the Opentrons deck layout based on a JSON configuration string.\",\n",
    "    args_schema=DeckConfig\n",
    ")\n"
   ]
  },
  {
   "cell_type": "code",
   "execution_count": 23,
   "metadata": {},
   "outputs": [],
   "source": [
    "from langchain_openai import ChatOpenAI\n",
    "from langchain.agents import create_openai_tools_agent, AgentExecutor\n",
    "from langchain_core.prompts import (\n",
    "    ChatPromptTemplate,\n",
    "    MessagesPlaceholder,\n",
    "    HumanMessagePromptTemplate,\n",
    "    SystemMessagePromptTemplate\n",
    ")\n",
    "\n",
    "model = ChatOpenAI(model='gpt-4o-mini', temperature=0)\n",
    "\n",
    "system_template = \"\"\"\n",
    "You are an AI assistant that initializes Opentrons deck layouts. Your task is to:\n",
    "    1. Take the provided JSON configuration string.\n",
    "    2. Use the 'Initialize Deck' tool to generate the Python code for setting up the Opentrons deck.\n",
    "    3. Return the generated Python code.\n",
    "\n",
    "    Only use the 'Initialize Deck' tool. Do not attempt to modify or add to the generated code.\n",
    "\"\"\"\n",
    "\n",
    "human_template = \"{input}\"\n",
    "\n",
    "prompt = ChatPromptTemplate.from_messages([\n",
    "    SystemMessagePromptTemplate.from_template(system_template),\n",
    "    MessagesPlaceholder(variable_name=\"chat_history\", optional=True),\n",
    "    HumanMessagePromptTemplate.from_template(input_variables=[\"input\"], template=human_template),\n",
    "    MessagesPlaceholder(variable_name=\"agent_scratchpad\"),\n",
    "])\n",
    "\n",
    "agent = create_openai_tools_agent(model, [initialize_deck_tool], prompt)"
   ]
  },
  {
   "cell_type": "code",
   "execution_count": 24,
   "metadata": {},
   "outputs": [],
   "source": [
    "from langchain.agents import AgentExecutor\n",
    "\n",
    "agent_executor = AgentExecutor(agent=agent, tools=[initialize_deck_tool], verbose=True)"
   ]
  },
  {
   "cell_type": "code",
   "execution_count": 25,
   "metadata": {},
   "outputs": [
    {
     "name": "stdout",
     "output_type": "stream",
     "text": [
      "\n",
      "\n",
      "\u001b[1m> Entering new AgentExecutor chain...\u001b[0m\n",
      "\u001b[32;1m\u001b[1;3m\n",
      "Invoking: `InitializeDeck` with `{'config_string': '{\"robot_type\": \"OT-2\", \"api_version\": \"2.17\", \"pipettes\": {\"left\": {\"type\": \"p300_single_gen2\", \"tip_racks\": [\"1\"]}, \"right\": {\"type\": \"p20_multi_gen2\", \"tip_racks\": [\"2\"]}}, \"modules\": {\"thermocycler\": {\"type\": \"thermocyclerModuleV2\", \"location\": [\"7\"]}}, \"labware\": {\"1\": {\"type\": \"opentrons_96_tiprack_300ul\"}, \"2\": {\"type\": \"opentrons_96_tiprack_20ul\"}, \"3\": {\"type\": \"corning_96_wellplate_360ul_flat\"}, \"5\": {\"type\": \"nest_12_reservoir_15ml\"}, \"7\": {\"type\": \"nest_96_wellplate_100ul_pcr_full_skirt\", \"parent_module\": \"thermocycler\"}}}'}`\n",
      "\n",
      "\n",
      "\u001b[0m\u001b[36;1m\u001b[1;3mfrom opentrons import protocol_api\n",
      "\n",
      "metadata = {'apiLevel': '2.17'}\n",
      "\n",
      "def run(protocol: protocol_api.ProtocolContext):\n",
      "    left_pipette = protocol.load_instrument('p300_single_gen2', 'left', tip_racks=[protocol.load_labware('opentrons_96_tiprack_300ul', '1')])\n",
      "    right_pipette = protocol.load_instrument('p20_multi_gen2', 'right', tip_racks=[protocol.load_labware('opentrons_96_tiprack_20ul', '2')])\n",
      "    thermocycler = protocol.load_module('thermocyclerModuleV2', '7')\n",
      "    1_labware = protocol.load_labware('opentrons_96_tiprack_300ul', '1')\n",
      "    2_labware = protocol.load_labware('opentrons_96_tiprack_20ul', '2')\n",
      "    3_labware = protocol.load_labware('corning_96_wellplate_360ul_flat', '3')\n",
      "    5_labware = protocol.load_labware('nest_12_reservoir_15ml', '5')\n",
      "    7_labware = thermocycler.load_labware('nest_96_wellplate_100ul_pcr_full_skirt')\u001b[0m\u001b[32;1m\u001b[1;3m```python\n",
      "from opentrons import protocol_api\n",
      "\n",
      "metadata = {'apiLevel': '2.17'}\n",
      "\n",
      "def run(protocol: protocol_api.ProtocolContext):\n",
      "    left_pipette = protocol.load_instrument('p300_single_gen2', 'left', tip_racks=[protocol.load_labware('opentrons_96_tiprack_300ul', '1')])\n",
      "    right_pipette = protocol.load_instrument('p20_multi_gen2', 'right', tip_racks=[protocol.load_labware('opentrons_96_tiprack_20ul', '2')])\n",
      "    thermocycler = protocol.load_module('thermocyclerModuleV2', '7')\n",
      "    1_labware = protocol.load_labware('opentrons_96_tiprack_300ul', '1')\n",
      "    2_labware = protocol.load_labware('opentrons_96_tiprack_20ul', '2')\n",
      "    3_labware = protocol.load_labware('corning_96_wellplate_360ul_flat', '3')\n",
      "    5_labware = protocol.load_labware('nest_12_reservoir_15ml', '5')\n",
      "    7_labware = thermocycler.load_labware('nest_96_wellplate_100ul_pcr_full_skirt')\n",
      "```\u001b[0m\n",
      "\n",
      "\u001b[1m> Finished chain.\u001b[0m\n"
     ]
    },
    {
     "data": {
      "text/plain": [
       "{'input': 'Set the temperature of a thermocycler block to 20 degC.\\n\\nOpentrons deck config:\\n{\"robot_type\": \"OT-2\", \"api_version\": \"2.17\", \"pipettes\": {\"left\": {\"type\": \"p300_single_gen2\", \"tip_racks\": [\"1\"]}, \"right\": {\"type\": \"p20_multi_gen2\", \"tip_racks\": [\"2\"]}}, \"modules\": {\"thermocycler\": {\"type\": \"thermocyclerModuleV2\", \"location\": [\"7\"]}}, \"labware\": {\"1\": {\"type\": \"opentrons_96_tiprack_300ul\"}, \"2\": {\"type\": \"opentrons_96_tiprack_20ul\"}, \"3\": {\"type\": \"corning_96_wellplate_360ul_flat\"}, \"5\": {\"type\": \"nest_12_reservoir_15ml\"}, \"7\": {\"type\": \"nest_96_wellplate_100ul_pcr_full_skirt\", \"parent_module\": \"thermocycler\"}}}',\n",
       " 'output': \"```python\\nfrom opentrons import protocol_api\\n\\nmetadata = {'apiLevel': '2.17'}\\n\\ndef run(protocol: protocol_api.ProtocolContext):\\n    left_pipette = protocol.load_instrument('p300_single_gen2', 'left', tip_racks=[protocol.load_labware('opentrons_96_tiprack_300ul', '1')])\\n    right_pipette = protocol.load_instrument('p20_multi_gen2', 'right', tip_racks=[protocol.load_labware('opentrons_96_tiprack_20ul', '2')])\\n    thermocycler = protocol.load_module('thermocyclerModuleV2', '7')\\n    1_labware = protocol.load_labware('opentrons_96_tiprack_300ul', '1')\\n    2_labware = protocol.load_labware('opentrons_96_tiprack_20ul', '2')\\n    3_labware = protocol.load_labware('corning_96_wellplate_360ul_flat', '3')\\n    5_labware = protocol.load_labware('nest_12_reservoir_15ml', '5')\\n    7_labware = thermocycler.load_labware('nest_96_wellplate_100ul_pcr_full_skirt')\\n```\"}"
      ]
     },
     "execution_count": 25,
     "metadata": {},
     "output_type": "execute_result"
    }
   ],
   "source": [
    "agent_executor.invoke({\"input\": f\"Set the temperature of a thermocycler block to 20 degC.\\n\\nOpentrons deck config:\\n{json.dumps(opentrons_config)}\"})"
   ]
  }
 ],
 "metadata": {
  "kernelspec": {
   "display_name": "intelligent-lab-venv",
   "language": "python",
   "name": "python3"
  },
  "language_info": {
   "codemirror_mode": {
    "name": "ipython",
    "version": 3
   },
   "file_extension": ".py",
   "mimetype": "text/x-python",
   "name": "python",
   "nbconvert_exporter": "python",
   "pygments_lexer": "ipython3",
   "version": "3.11.9"
  }
 },
 "nbformat": 4,
 "nbformat_minor": 2
}
