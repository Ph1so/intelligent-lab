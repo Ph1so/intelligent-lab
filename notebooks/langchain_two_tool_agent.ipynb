{
 "cells": [
  {
   "cell_type": "markdown",
   "metadata": {},
   "source": [
    "# Langchain agents: multiple tools"
   ]
  },
  {
   "cell_type": "code",
   "execution_count": 1,
   "metadata": {},
   "outputs": [],
   "source": [
    "from dotenv import load_dotenv\n",
    "import os\n",
    "import json\n",
    "import re\n",
    "from openai import OpenAI\n",
    "\n",
    "load_dotenv()\n",
    "client = OpenAI(api_key=os.getenv(\"OPENAI_API_KEY\"))"
   ]
  },
  {
   "cell_type": "markdown",
   "metadata": {},
   "source": [
    "## Tools\n",
    "Let's provide two tools: a RAG retriever for Opentrons documentation and tool for initializing the deck layout for a JSON config file."
   ]
  },
  {
   "cell_type": "code",
   "execution_count": 2,
   "metadata": {},
   "outputs": [],
   "source": [
    "# Initialize vector database of Opentrons documentation\n",
    "\n",
    "from langchain_community.document_loaders import PyPDFLoader\n",
    "from langchain_community.vectorstores import FAISS\n",
    "from langchain_core.documents import Document\n",
    "from langchain_openai import OpenAIEmbeddings\n",
    "from langchain_text_splitters import RecursiveCharacterTextSplitter\n",
    "\n",
    "loader = PyPDFLoader(\"../rag-documentation/opentrons-docs.pdf\")\n",
    "documents = loader.load()\n",
    "\n",
    "def clean_text(text):\n",
    "    # Remove single newlines\n",
    "    text = re.sub(r'(?<!\\n)\\n(?!\\n)', ' ', text)\n",
    "    # Replace multiple newlines with a single newline\n",
    "    text = re.sub(r'\\n+', '\\n', text)\n",
    "    return text.strip()\n",
    "\n",
    "cleaned_docs = [Document(page_content=clean_text(doc.page_content), metadata=doc.metadata) for doc in documents]\n",
    "splits = RecursiveCharacterTextSplitter(\n",
    "            chunk_size=1000, chunk_overlap=200\n",
    "        ).split_documents(cleaned_docs)\n",
    "vector = FAISS.from_documents(splits, OpenAIEmbeddings())\n",
    "retriever = vector.as_retriever(search_kwargs={\"k\": 3})"
   ]
  },
  {
   "cell_type": "code",
   "execution_count": 3,
   "metadata": {},
   "outputs": [],
   "source": [
    "from langchain.tools.retriever import create_retriever_tool\n",
    "\n",
    "retriever_tool = create_retriever_tool(\n",
    "    retriever,\n",
    "    \"search_opentrons_docs\",\n",
    "    \"Search for documentation about the Python Opentrons v2 API\",\n",
    ")"
   ]
  },
  {
   "cell_type": "code",
   "execution_count": 4,
   "metadata": {},
   "outputs": [],
   "source": [
    "from langchain.tools import StructuredTool\n",
    "from langchain_core.pydantic_v1 import BaseModel, Field\n",
    "\n",
    "class DeckConfig(BaseModel):\n",
    "    config_path: str = Field(..., description=\"A path to a JSON file containing an Opentrons deck layout\")\n",
    "\n",
    "def initialize_deck(config_path: str) -> str:\n",
    "    \"\"\"\n",
    "    Initialize the Opentrons deck layout based on the provided JSON configuration.\n",
    "    \n",
    "    Args:\n",
    "        config_string: JSON string representation of the deck layout.\n",
    "    \n",
    "    Returns:\n",
    "        str: Python code to set up the Opentrons deck.\n",
    "    \"\"\"\n",
    "    with open(config_path, 'r') as file:\n",
    "        opentrons_config_string = file.read()\n",
    "\n",
    "    config = json.loads(opentrons_config_string)\n",
    "    code = []\n",
    "    \n",
    "    code.append(\"from opentrons import protocol_api\")\n",
    "    code.append(f\"\\nmetadata = {{'apiLevel': '{config['api_version']}'}}\")\n",
    "    code.append(\"\\ndef run(protocol: protocol_api.ProtocolContext):\")\n",
    "    \n",
    "    # Load pipettes\n",
    "    for mount, pipette in config['pipettes'].items():\n",
    "        tip_racks = [f\"protocol.load_labware('{config['labware'][rack]['type']}', '{rack}')\" \n",
    "                     for rack in pipette['tip_racks']]\n",
    "        tip_racks_str = \", \".join(tip_racks)\n",
    "        code.append(f\"    {mount}_pipette = protocol.load_instrument('{pipette['type']}', '{mount}', tip_racks=[{tip_racks_str}])\")\n",
    "    \n",
    "    # Load modules\n",
    "    for module_name, module_info in config.get('modules', {}).items():\n",
    "        code.append(f\"    {module_name} = protocol.load_module('{module_info['type']}', '{module_info['location'][0]}')\")\n",
    "    \n",
    "    # Load labware\n",
    "    for slot, labware in config['labware'].items():\n",
    "        if 'parent_module' in labware:\n",
    "            code.append(f\"    {slot}_labware = {labware['parent_module']}.load_labware('{labware['type']}')\")\n",
    "        else:\n",
    "            code.append(f\"    {slot}_labware = protocol.load_labware('{labware['type']}', '{slot}')\")\n",
    "    \n",
    "    return \"\\n\".join(code)\n",
    "\n",
    "initialize_deck_tool = StructuredTool.from_function(\n",
    "    func=initialize_deck,\n",
    "    name=\"InitializeDeck\",\n",
    "    description=\"Initialize the Opentrons deck layout based on a JSON file.\",\n",
    "    args_schema=DeckConfig\n",
    ")"
   ]
  },
  {
   "cell_type": "code",
   "execution_count": 5,
   "metadata": {},
   "outputs": [],
   "source": [
    "tools = [retriever_tool, initialize_deck_tool]"
   ]
  },
  {
   "cell_type": "code",
   "execution_count": 7,
   "metadata": {},
   "outputs": [],
   "source": [
    "from langchain_openai import ChatOpenAI\n",
    "from langchain.agents import create_openai_tools_agent, AgentExecutor\n",
    "from langchain_core.prompts import (\n",
    "    ChatPromptTemplate,\n",
    "    MessagesPlaceholder,\n",
    "    HumanMessagePromptTemplate,\n",
    "    SystemMessagePromptTemplate\n",
    ")\n",
    "from langchain.agents import AgentExecutor\n",
    "\n",
    "model = ChatOpenAI(model='gpt-4o-mini', temperature=0)\n",
    "\n",
    "system_template = \"\"\"\n",
    "You are an AI assistant that writes Opentrons code to complete a user specified objective. Your task is to:\n",
    "    1. Write code to initialize the Opentrons deck layout based on a JSON configuration file. Use the 'InitializeDeck' tool to accomplish this.\n",
    "    2. Using the 'SearchOpentronsDocs' tool to search the Opentrons documentation for information related to the user-specified task.\n",
    "    3. Return the generated Python code including the output for (1) plus code to achieve the user-specified task.\n",
    "\n",
    "    Only use the 'Initialize Deck' tool, proving the path to the JSON file as input. Do not attempt to modify or add to the generated code.\n",
    "\"\"\"\n",
    "\n",
    "human_template = \"{input}\"\n",
    "\n",
    "prompt = ChatPromptTemplate.from_messages([\n",
    "    SystemMessagePromptTemplate.from_template(system_template),\n",
    "    MessagesPlaceholder(variable_name=\"chat_history\", optional=True),\n",
    "    HumanMessagePromptTemplate.from_template(input_variables=[\"input\"], template=human_template),\n",
    "    MessagesPlaceholder(variable_name=\"agent_scratchpad\"),\n",
    "])\n",
    "\n",
    "agent = create_openai_tools_agent(model, tools, prompt)\n",
    "\n",
    "agent_executor = AgentExecutor(agent=agent, tools=tools, verbose=True)"
   ]
  },
  {
   "cell_type": "code",
   "execution_count": 8,
   "metadata": {},
   "outputs": [
    {
     "name": "stdout",
     "output_type": "stream",
     "text": [
      "\n",
      "\n",
      "\u001b[1m> Entering new AgentExecutor chain...\u001b[0m\n",
      "\u001b[32;1m\u001b[1;3m\n",
      "Invoking: `InitializeDeck` with `{'config_path': 'opentrons_config.json'}`\n",
      "\n",
      "\n",
      "\u001b[0m\u001b[33;1m\u001b[1;3mfrom opentrons import protocol_api\n",
      "\n",
      "metadata = {'apiLevel': '2.17'}\n",
      "\n",
      "def run(protocol: protocol_api.ProtocolContext):\n",
      "    left_pipette = protocol.load_instrument('p300_single_gen2', 'left', tip_racks=[protocol.load_labware('opentrons_96_tiprack_300ul', '1')])\n",
      "    right_pipette = protocol.load_instrument('p20_multi_gen2', 'right', tip_racks=[protocol.load_labware('opentrons_96_tiprack_20ul', '2')])\n",
      "    thermocycler = protocol.load_module('thermocyclerModuleV2', '7')\n",
      "    1_labware = protocol.load_labware('opentrons_96_tiprack_300ul', '1')\n",
      "    2_labware = protocol.load_labware('opentrons_96_tiprack_20ul', '2')\n",
      "    3_labware = protocol.load_labware('corning_96_wellplate_360ul_flat', '3')\n",
      "    5_labware = protocol.load_labware('nest_12_reservoir_15ml', '5')\n",
      "    7_labware = thermocycler.load_labware('nest_96_wellplate_100ul_pcr_full_skirt')\u001b[0m\u001b[32;1m\u001b[1;3m\n",
      "Invoking: `search_opentrons_docs` with `{'query': 'set temperature thermocycler'}`\n",
      "\n",
      "\n",
      "\u001b[0m\u001b[36;1m\u001b[1;3mThe Thermocycler can control its block temperature, including holding at a temperature and adjusting for the volume of liquid held in its loaded plate. Temperature To set the block temperature inside the Thermocycler, use set_block_temperature(). At minimum you have to specify a temperature in degrees Celsius: tc_mod.set_block_temperature(temperature=4) If you don’t specify any other parameters, the Thermocycler will hold this temperature until a new temperature is set, deactivate_block() is called, or the module is powered off. New in version 2.0. Hold Time You can optionally instruct the Thermocycler to hold its block temperature for a specific amount of time. You can specify hold_time_minutes, hold_time_seconds, or both (in which case they will be added together). For example, this will set the block to 4 °C for 4 minutes and 15 seconds: tc_mod.set_block_temperature( temperature=4, hold_time_minutes=4, hold_time_seconds=15) Note Your protocol will not proceed to further commands\n",
      "\n",
      "temp_mod.status # \"idle\" If you don’t need to use the status value in your code, and you have physical access to the module, you can read its status and temperature from the LED and display on the module. Thermocycler The Thermocycler Module provides on-deck, fully automated thermocycling, and can heat and cool very quickly during operation. The module’s block can reach and maintain temperatures between 4 and 99 °C. The module’s lid can heat up to 110 °C. The Thermocycler is represented in code by a ThermocyclerContext object, which has methods for controlling the lid, controlling the block, and setting profiles — timed heating and cooling routines that can be repeated automatically. The examples in this section will use a Thermocycler Module GEN2 loaded as follows: tc_mod = protocol.load_module(module_name=\"thermocyclerModuleV2\") plate = tc_mod.load_labware(name=\"nest_96_wellplate_100ul_pcr_full_skirt\") New in version 2.13. Lid Control The Thermocycler can control the position and\n",
      "\n",
      "plate = tc_mod.load_labware(name=\"nest_96_wellplate_100ul_pcr_full_skirt\") New in version 2.13. Lid Control The Thermocycler can control the position and temperature of its lid. To change the lid position, use open_lid() and close_lid(). When the lid is open, the pipettes can access the loaded labware. You can also control the temperature of the lid. Acceptable target temperatures are between 37 and 110 °C. Use set_lid_temperature(), which takes one parameter: the target temperature (in degrees Celsius) as an integer. For example, to set the lid to 50 °C: tc_mod.set_lid_temperature(temperature=50) The protocol will only proceed once the lid temperature reaches 50 °C. This is the case whether the previous temperature was lower than 50 °C (in which case the lid will actively heat) or higher than 50 °C (in which case the lid will passively cool). You can turn off the lid heater at any time with deactivate_lid(). Note Lid temperature is not affected by Thermocycler profiles. Therefore you\u001b[0m\u001b[32;1m\u001b[1;3mHere is the generated Python code to initialize the Opentrons deck layout and set the temperature of the thermocycler block to 20 °C:\n",
      "\n",
      "```python\n",
      "from opentrons import protocol_api\n",
      "\n",
      "metadata = {'apiLevel': '2.17'}\n",
      "\n",
      "def run(protocol: protocol_api.ProtocolContext):\n",
      "    # Initialize the deck layout\n",
      "    left_pipette = protocol.load_instrument('p300_single_gen2', 'left', tip_racks=[protocol.load_labware('opentrons_96_tiprack_300ul', '1')])\n",
      "    right_pipette = protocol.load_instrument('p20_multi_gen2', 'right', tip_racks=[protocol.load_labware('opentrons_96_tiprack_20ul', '2')])\n",
      "    thermocycler = protocol.load_module('thermocyclerModuleV2', '7')\n",
      "    labware_1 = protocol.load_labware('opentrons_96_tiprack_300ul', '1')\n",
      "    labware_2 = protocol.load_labware('opentrons_96_tiprack_20ul', '2')\n",
      "    labware_3 = protocol.load_labware('corning_96_wellplate_360ul_flat', '3')\n",
      "    labware_5 = protocol.load_labware('nest_12_reservoir_15ml', '5')\n",
      "    labware_7 = thermocycler.load_labware('nest_96_wellplate_100ul_pcr_full_skirt')\n",
      "\n",
      "    # Set the thermocycler block temperature to 20 °C\n",
      "    thermocycler.set_block_temperature(temperature=20)\n",
      "```\n",
      "\n",
      "This code initializes the Opentrons deck layout based on the provided JSON configuration and sets the thermocycler block temperature to 20 °C.\u001b[0m\n",
      "\n",
      "\u001b[1m> Finished chain.\u001b[0m\n"
     ]
    },
    {
     "data": {
      "text/plain": [
       "{'input': 'Set the temperature of a thermocycler block to 20 degC.\\n\\nPath to opentrons deck config:\\nopentrons_config.json',\n",
       " 'output': \"Here is the generated Python code to initialize the Opentrons deck layout and set the temperature of the thermocycler block to 20 °C:\\n\\n```python\\nfrom opentrons import protocol_api\\n\\nmetadata = {'apiLevel': '2.17'}\\n\\ndef run(protocol: protocol_api.ProtocolContext):\\n    # Initialize the deck layout\\n    left_pipette = protocol.load_instrument('p300_single_gen2', 'left', tip_racks=[protocol.load_labware('opentrons_96_tiprack_300ul', '1')])\\n    right_pipette = protocol.load_instrument('p20_multi_gen2', 'right', tip_racks=[protocol.load_labware('opentrons_96_tiprack_20ul', '2')])\\n    thermocycler = protocol.load_module('thermocyclerModuleV2', '7')\\n    labware_1 = protocol.load_labware('opentrons_96_tiprack_300ul', '1')\\n    labware_2 = protocol.load_labware('opentrons_96_tiprack_20ul', '2')\\n    labware_3 = protocol.load_labware('corning_96_wellplate_360ul_flat', '3')\\n    labware_5 = protocol.load_labware('nest_12_reservoir_15ml', '5')\\n    labware_7 = thermocycler.load_labware('nest_96_wellplate_100ul_pcr_full_skirt')\\n\\n    # Set the thermocycler block temperature to 20 °C\\n    thermocycler.set_block_temperature(temperature=20)\\n```\\n\\nThis code initializes the Opentrons deck layout based on the provided JSON configuration and sets the thermocycler block temperature to 20 °C.\"}"
      ]
     },
     "execution_count": 8,
     "metadata": {},
     "output_type": "execute_result"
    }
   ],
   "source": [
    "config_path = \"opentrons_config.json\"\n",
    "agent_executor.invoke({\"input\": f\"Set the temperature of a thermocycler block to 20 degC.\\n\\nPath to opentrons deck config:\\n{config_path}\"})"
   ]
  }
 ],
 "metadata": {
  "kernelspec": {
   "display_name": "intelligent-lab-venv",
   "language": "python",
   "name": "python3"
  },
  "language_info": {
   "codemirror_mode": {
    "name": "ipython",
    "version": 3
   },
   "file_extension": ".py",
   "mimetype": "text/x-python",
   "name": "python",
   "nbconvert_exporter": "python",
   "pygments_lexer": "ipython3",
   "version": "3.11.9"
  }
 },
 "nbformat": 4,
 "nbformat_minor": 2
}
